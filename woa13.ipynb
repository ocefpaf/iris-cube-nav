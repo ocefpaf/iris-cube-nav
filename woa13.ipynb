{
 "cells": [
  {
   "cell_type": "code",
   "execution_count": null,
   "metadata": {
    "collapsed": true
   },
   "outputs": [],
   "source": [
    "import iris\n",
    "\n",
    "\n",
    "def _parse_woa13(variable='temperature', clim_type='00', resolution='1.00'):\n",
    "    if variable not in ['salinity', 'temperature']:\n",
    "        resolution = '1.00'\n",
    "        decav = 'all'\n",
    "        msg = '{} is only available at 1 degree resolution'.format\n",
    "        warnings.warn(msg(variable))\n",
    "    else:\n",
    "        decav = 'decav'\n",
    "        \n",
    "    v = dict(temperature='t', silicate='i', salinity='s', AOU='A',\n",
    "             phosphate='p', oxygen='o', o2sat='O', nitrate='n')\n",
    "    r = dict({'1.00': '1', '0.25': '4'})\n",
    "    \n",
    "    url = ('http://data.nodc.noaa.gov/thredds/dodsC/woa/WOA13/DATA/'\n",
    "           '{variable}/netcdf/{decav}/{resolution}/woa13_{decav}_{var}'\n",
    "           '{clim_type}_0{res}.nc').format\n",
    "\n",
    "    var = v[variable]\n",
    "    res = r[resolution]\n",
    "    \n",
    "    url = url(**dict(variable=variable, decav=decav,\n",
    "                     resolution=resolution, var=var,\n",
    "                     clim_type=clim_type, res=res))\n",
    "    \n",
    "    cubes = iris.load_raw(url)\n",
    "    return [c for c in cubes if c.var_name == '{}_an'.format(var)][0]"
   ]
  },
  {
   "cell_type": "code",
   "execution_count": null,
   "metadata": {
    "collapsed": false
   },
   "outputs": [],
   "source": [
    "cube = _parse_woa13(variable='temperature', clim_type='00', resolution='1.00')"
   ]
  },
  {
   "cell_type": "code",
   "execution_count": null,
   "metadata": {
    "collapsed": false
   },
   "outputs": [],
   "source": [
    "from ipywidgets import interact, interactive, fixed\n",
    "import ipywidgets as widgets\n",
    "from IPython.display import display"
   ]
  },
  {
   "cell_type": "code",
   "execution_count": null,
   "metadata": {
    "collapsed": false
   },
   "outputs": [],
   "source": [
    "class CubeWidget(object):\n",
    "    @classmethod\n",
    "    def create(cls, *args, **kwargs):\n",
    "        \"\"\"\n",
    "        We do a little dance to avoid having to implement a proper DOMWidget.\n",
    "        That is the approach we should really be taking here...\n",
    "        \n",
    "        \"\"\"\n",
    "        widget_creator = cls(*args, **kwargs)\n",
    "        widget_creator.form.widget_creator = widget_creator\n",
    "        \n",
    "        return widget_creator.form\n",
    "    \n",
    "    def __init__(self, cube):\n",
    "        \"\"\"\n",
    "        Create the widget interface for the given cube.\n",
    "\n",
    "        \"\"\"\n",
    "        form = widgets.VBox()\n",
    "    \n",
    "        self._shape = cube.shape\n",
    "        self._ndim = len(self._shape)\n",
    "        self._cube = cube\n",
    "        self._current_index = None\n",
    "\n",
    "        self.cube_summary = widgets.HTML('')\n",
    "        dim_sliders = {}\n",
    "\n",
    "        children = [self.cube_summary]\n",
    "\n",
    "        # A maping of dimension number to slider instance.\n",
    "        self._dim_sliders = {}\n",
    "        self._last_index = None\n",
    "        \n",
    "        for dim, dim_length in list(enumerate(self._shape))[::-1]:\n",
    "            coords_on_dim = cube.coords(dimensions=[dim])\n",
    "\n",
    "            is_slider = cube.ndim - dim > 2\n",
    "\n",
    "            if coords_on_dim:\n",
    "                name = coords_on_dim[0].name()\n",
    "            else:\n",
    "                name = 'Axis {}'.format(dim)\n",
    "\n",
    "            toggle = widgets.Checkbox(value=is_slider)\n",
    "            label_widget = widgets.HTML(name)\n",
    "            slider = widgets.IntSlider(min=0, max=dim_length - 1, visible=is_slider)\n",
    "\n",
    "            self._dim_sliders[dim] = slider\n",
    "            container = widgets.HBox(children=[label_widget, slider, toggle])\n",
    "\n",
    "            def on_dimension_toggle_fn(slider):\n",
    "                def on_dimension_toggle(name, value):\n",
    "                    slider.visible = value\n",
    "                return on_dimension_toggle\n",
    "            \n",
    "            toggle.on_trait_change(on_dimension_toggle_fn(slider), 'value')\n",
    "            slider.on_trait_change(self.on_change, 'value')\n",
    "            toggle.on_trait_change(self.on_change, 'value')\n",
    "\n",
    "            children.append(container)\n",
    "\n",
    "        form.children = children\n",
    "        self.form = form\n",
    "        self.finalise()\n",
    "\n",
    "    def finalise(self):\n",
    "        # Called when the initialisation is complete, and we want to trigger the first event.\n",
    "        return self.on_change(None, None)\n",
    "    \n",
    "    def on_change(self, name, value):\n",
    "        \"\"\"\n",
    "        An event which is triggered when any widget value is changed.\n",
    "\n",
    "        \"\"\"\n",
    "        the_index = [slice(None)] * self._ndim\n",
    "        for dim, slider in self._dim_sliders.items():\n",
    "            if slider.visible:\n",
    "                the_index[dim] = slider.value\n",
    "        if self._current_index != the_index:\n",
    "            self._current_index = tuple(the_index)\n",
    "            sub_cube = self._cube[self._current_index]\n",
    "            summary = '<b>{}</b>'.format(sub_cube.summary(True))\n",
    "            scalar_info = []\n",
    "            for scalar_coord in sub_cube.coords(dimensions=[]):\n",
    "                units = scalar_coord.units\n",
    "                if (units in ['1', 'no_unit', 'unknown'] or\n",
    "                        units.is_time_reference()):\n",
    "                    unit = ''\n",
    "                else:\n",
    "                    unit = ' {!s}'.format(units)\n",
    "                \n",
    "                    \n",
    "                if units.is_time_reference():\n",
    "                    try:\n",
    "                        msg = '{}'.format(units.num2date(scalar_coord.points[0]))\n",
    "                    except ValueError:\n",
    "                        msg = '{!r}'.format(scalar_coord.units)\n",
    "                else:\n",
    "                    msg = '{} {}'.format(scalar_coord.points[0], unit)\n",
    "                scalar_info.append('<span style=\"padding-left: 40px; width: 275px; display:inline-block; '\n",
    "                                   'white-space:nowrap;\">'\n",
    "                                   '{}:</span><span>{}</span>'.format(scalar_coord.name(), msg))\n",
    "            sep = '<br />'\n",
    "            summary += sep + sep.join(scalar_info)\n",
    "            self.cube_summary.value = summary\n"
   ]
  },
  {
   "cell_type": "code",
   "execution_count": null,
   "metadata": {
    "collapsed": true
   },
   "outputs": [],
   "source": [
    "widget = CubeWidget(cube)\n",
    "widget.form"
   ]
  },
  {
   "cell_type": "markdown",
   "metadata": {},
   "source": [
    "Next we will define a subclass of this navigator which adds plotting functionality."
   ]
  },
  {
   "cell_type": "code",
   "execution_count": null,
   "metadata": {
    "collapsed": false
   },
   "outputs": [],
   "source": [
    "%matplotlib notebook"
   ]
  },
  {
   "cell_type": "code",
   "execution_count": null,
   "metadata": {
    "collapsed": true
   },
   "outputs": [],
   "source": [
    "import matplotlib.pyplot as plt\n",
    "import iris.plot as iplt\n",
    "import iris.quickplot as qplt\n",
    "import cartopy"
   ]
  },
  {
   "cell_type": "code",
   "execution_count": null,
   "metadata": {
    "collapsed": false
   },
   "outputs": [],
   "source": [
    "class Contourf(object):\n",
    "    def __init__(self):\n",
    "        self.axes = None\n",
    "        self.cs = None\n",
    "    \n",
    "    def draw(self, cube):\n",
    "        if self.axes:\n",
    "            plt.sca(self.axes)\n",
    "        self.cs = iplt.contourf(cube, cmap='GnBu')\n",
    "        \n",
    "        # Get the current axes, since Iris may change the instance.\n",
    "        self.axes = plt.gca()\n",
    "\n",
    "    def clear(self):\n",
    "        if self.axes and self.axes in self.axes.figure.axes:\n",
    "            self.axes.figure.axes.remove(self.axes)\n",
    "        self.axes = None\n",
    "        \n",
    "\n",
    "class ContourfCoastlines(Contourf):\n",
    "    def __init__(self):\n",
    "        super(ContourfCoastlines, self).__init__()\n",
    "        self.coastlined_axes = None\n",
    "        \n",
    "    def draw(self, cube):\n",
    "        super(ContourfCoastlines, self).draw(cube)\n",
    "        is_geoaxes = isinstance(self.axes, cartopy.mpl.geoaxes.GeoAxes)\n",
    "        if is_geoaxes and self.coastlined_axes is not self.axes:\n",
    "            self.axes.coastlines()\n",
    "            self.coastlined_axes = self.axes\n",
    "            self.axes.gridlines()\n",
    "\n",
    "            \n",
    "class Line(object):\n",
    "    def __init__(self):\n",
    "        self.axes = None\n",
    "        self.line = None\n",
    "    \n",
    "    def draw(self, cube):\n",
    "        if self.line and self.axes and self.line in self.axes.lines:\n",
    "            self.line.set_ydata(cube.data)\n",
    "            self.axes.relim()\n",
    "            self.axes.autoscale_view()\n",
    "        else:\n",
    "            self.line, = qplt.plot(cube)\n",
    "            self.axes = plt.gca()\n",
    "            plt.grid(True)\n",
    "\n",
    "    def clear(self):\n",
    "        if self.axes and self.axes in self.axes.figure.axes:\n",
    "            self.axes.figure.axes.remove(self.axes)\n",
    "        self.axes = None\n",
    "\n",
    "        \n",
    "class PlotWidget(CubeWidget):\n",
    "    def __init__(self, cube, draw_tools):\n",
    "        self.fig = plt.figure()\n",
    "        self.draw_tools = draw_tools\n",
    "        self._axes_dims = []\n",
    "        self._draw_tool = None\n",
    "        super(PlotWidget, self).__init__(cube)\n",
    "\n",
    "    def on_change(self, name, value):\n",
    "        super(PlotWidget, self).on_change(name, value)\n",
    "\n",
    "        plot_dims = [dim for dim, slider in self._dim_sliders.items()\n",
    "                     if not slider.visible]\n",
    "        if self._axes_dims != plot_dims:\n",
    "            self._axes_dims = plot_dims\n",
    "            ax = plt.subplot(1, 1, 1)\n",
    "            ax.clear()\n",
    "            for tool in self.draw_tools.values():\n",
    "                tool.clear()\n",
    "                tool.axes = ax\n",
    "        \n",
    "        sub_cube = self._cube[self._current_index]\n",
    "\n",
    "        draw_tool = self.draw_tools.get(sub_cube.ndim, None)\n",
    "        \n",
    "        if draw_tool:\n",
    "            self._draw_tool = draw_tool\n",
    "            draw_tool.draw(sub_cube)\n",
    "        else:\n",
    "            # No draw possible for this number of dimensions.\n",
    "            plt.clf()            \n",
    "        plt.draw()"
   ]
  },
  {
   "cell_type": "code",
   "execution_count": null,
   "metadata": {
    "collapsed": false
   },
   "outputs": [],
   "source": [
    "PlotWidget.create(cube, {1: Line(), 2: ContourfCoastlines()})"
   ]
  }
 ],
 "metadata": {
  "kernelspec": {
   "display_name": "Python 2",
   "language": "python",
   "name": "python2"
  },
  "language_info": {
   "codemirror_mode": {
    "name": "ipython",
    "version": 2
   },
   "file_extension": ".py",
   "mimetype": "text/x-python",
   "name": "python",
   "nbconvert_exporter": "python",
   "pygments_lexer": "ipython2",
   "version": "2.7.10"
  }
 },
 "nbformat": 4,
 "nbformat_minor": 0
}
